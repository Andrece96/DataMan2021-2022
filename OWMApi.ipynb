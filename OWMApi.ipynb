{
 "cells": [
  {
   "cell_type": "markdown",
   "id": "9800e0a6-67f6-4d5d-a003-d3710972976d",
   "metadata": {},
   "source": [
    "Configuration Parameters"
   ]
  },
  {
   "cell_type": "code",
   "execution_count": 163,
   "id": "bd6fe331-c5c4-4250-8c1a-046fd88f39a9",
   "metadata": {},
   "outputs": [],
   "source": [
    "appid = '5ce4119a5a17ae273acc7d0edea6046d'\n",
    "url = 'https://history.openweathermap.org/data/2.5/history/city'\n",
    "start = 1633267241 \n",
    "cnt = 167\n",
    "csv_url = \"citylist.csv\""
   ]
  },
  {
   "cell_type": "markdown",
   "id": "e48435d7-f064-4d36-abf7-74cfddbcc548",
   "metadata": {},
   "source": [
    "City list"
   ]
  },
  {
   "cell_type": "code",
   "execution_count": 150,
   "id": "54b7c87c-40df-42f2-8bbd-19fff03d5a59",
   "metadata": {},
   "outputs": [],
   "source": [
    "city_list = [\n",
    "    {\n",
    "        'name': 'Milano Malpensa',\n",
    "        'lat': 45.628008,\n",
    "        'lon': 8.71227\n",
    "    },\n",
    "    {\n",
    "        'name': 'Milano Linate',\n",
    "        'lat': 45.460829,\n",
    "        'lon': 9.278683\n",
    "    },\n",
    "    {\n",
    "        'name': 'Roma Fiumicino ',\n",
    "        'lat': 41.79478,\n",
    "        'lon': 12.25477\n",
    "    },\n",
    "    {\n",
    "        'name': 'Roma Ciampino',\n",
    "        'lat': 41.799133,\n",
    "        'lon': 12.590576\n",
    "    },\n",
    "    {\n",
    "        'name': 'Olbia ',\n",
    "        'lat':40.90306,\n",
    "        'lon':9.515\n",
    "    },\n",
    "]"
   ]
  },
  {
   "cell_type": "markdown",
   "id": "f45d3813-dd14-43a6-b3f8-7e717584cd9b",
   "metadata": {},
   "source": [
    "Import and untouchable variables section"
   ]
  },
  {
   "cell_type": "code",
   "execution_count": 151,
   "id": "b1c0df68-0748-41a7-b412-cc90b64c4789",
   "metadata": {},
   "outputs": [],
   "source": [
    "import requests\n",
    "import time as tm\n",
    "import csv\n",
    "import pandas as pd\n",
    "base_payload = {'type': 'hour', 'cnt': cnt, 'appid': appid}"
   ]
  },
  {
   "cell_type": "markdown",
   "id": "e9e145b8-0502-4b58-a727-2768c6717c98",
   "metadata": {},
   "source": [
    "Weather tolist() version ~ 40.5s"
   ]
  },
  {
   "cell_type": "code",
   "execution_count": 144,
   "id": "313f670c-7ef1-41ed-a08c-38e4737b2e62",
   "metadata": {},
   "outputs": [
    {
     "name": "stdout",
     "output_type": "stream",
     "text": [
      "40.50983428955078\n"
     ]
    }
   ],
   "source": [
    "start_time = tm.time()\n",
    "\n",
    "is_first_time = True\n",
    "for city in city_list:\n",
    "    time = start\n",
    "    while time < int(tm.time()):\n",
    "        payload = base_payload | {'start' : time, 'lat': city['lat'], 'lon': city['lon']}\n",
    "        data = requests.get(url, params=payload).json()[\"list\"]\n",
    "        time+= 3600*cnt \n",
    "        df = pd.json_normalize(data)\n",
    "        df = pd.concat([df.drop('weather', axis = 1), pd.DataFrame(df['weather'].str[0].tolist()).add_prefix('weather.')], axis = 1)\n",
    "        df.insert(0,'city_name',city[\"name\"])\n",
    "        df.insert(0,'city_lon', city['lat'])\n",
    "        df.insert(0,'city_lat',city['lon'])\n",
    "        df.to_csv(csv_url, mode='a', header= is_first_time, index = False)\n",
    "        is_first_time = True\n",
    "        \n",
    "print(tm.time() - start_time)"
   ]
  },
  {
   "cell_type": "markdown",
   "id": "769142f8-8c28-44ce-b3bd-d109361c3503",
   "metadata": {},
   "source": [
    "Weather record_path version ~ 39.5s (calling to_csv() for each OWM call)"
   ]
  },
  {
   "cell_type": "code",
   "execution_count": 145,
   "id": "4e688369-14d6-4ed0-a6b3-f263472943bd",
   "metadata": {},
   "outputs": [
    {
     "name": "stdout",
     "output_type": "stream",
     "text": [
      "39.537997007369995\n"
     ]
    }
   ],
   "source": [
    "start_time = tm.time()\n",
    "\n",
    "is_first_time = True\n",
    "for city in city_list:\n",
    "    time = start\n",
    "    while time < int(tm.time()):\n",
    "        payload = base_payload | {'start' : time, 'lat': city['lat'], 'lon': city['lon']}\n",
    "        data = requests.get(url, params=payload).json()[\"list\"]\n",
    "        time+= 3600*cnt \n",
    "        dfw = pd.json_normalize(data, record_path=\"weather\", record_prefix=\"weather.\")\n",
    "        dfnw = pd.json_normalize(data).drop(\"weather\", axis=1)\n",
    "        df = pd.concat([dfw, dfnw], axis=1)\n",
    "        df.insert(0,'city_name',city[\"name\"])\n",
    "        df.insert(0,'city_lon', city['lat'])\n",
    "        df.insert(0,'city_lat',city['lon'])\n",
    "        df.to_csv(csv_url, mode='a', header= is_first_time, index = False)\n",
    "        is_first_time = False\n",
    "        \n",
    "print(tm.time() - start_time)"
   ]
  },
  {
   "cell_type": "markdown",
   "id": "e885d84f-d0b8-4579-a028-29b131adb604",
   "metadata": {},
   "source": [
    "Weather record_path version ~ 38.9s (calling to_csv() for each city)"
   ]
  },
  {
   "cell_type": "code",
   "execution_count": 162,
   "id": "051d9cc1-6cf9-4123-a124-ee8308db9899",
   "metadata": {},
   "outputs": [
    {
     "name": "stdout",
     "output_type": "stream",
     "text": [
      "38.95713710784912\n"
     ]
    }
   ],
   "source": [
    "start_time = tm.time()\n",
    "\n",
    "is_first_time = True\n",
    "for city in city_list:\n",
    "    time = start\n",
    "    \n",
    "    df_city= pd.DataFrame()\n",
    "    while time < int(tm.time()):\n",
    "        payload = base_payload | {'start' : time, 'lat': city['lat'], 'lon': city['lon']}\n",
    "        data = requests.get(url, params=payload).json()[\"list\"]\n",
    "        time+= 3600*cnt \n",
    "        dfw = pd.json_normalize(data, record_path=\"weather\", record_prefix=\"weather.\")\n",
    "        dfnw = pd.json_normalize(data).drop(\"weather\", axis=1)\n",
    "        df = pd.concat([dfw, dfnw], axis=1)\n",
    "        df_city = pd.concat([df_city,df], axis=0)\n",
    "    \n",
    "    df_city.insert(0,'city_name',city[\"name\"])\n",
    "    df_city.insert(0,'city_lon', city['lat'])\n",
    "    df_city.insert(0,'city_lat',city['lon'])\n",
    "    \n",
    "    df_city.to_csv(csv_url, mode='a', header= is_first_time, index = False)\n",
    "    is_first_time = False\n",
    "        \n",
    "print(tm.time() - start_time)"
   ]
  },
  {
   "cell_type": "markdown",
   "id": "c0d08ce8-f1a6-411d-9322-0a0cd1e23cf4",
   "metadata": {},
   "source": [
    "Weather record_path version ~ 38.7s (calling to_csv() at the end)"
   ]
  },
  {
   "cell_type": "code",
   "execution_count": 168,
   "id": "e9c3f299-6d3c-430d-8544-3b8217b46398",
   "metadata": {},
   "outputs": [
    {
     "name": "stdout",
     "output_type": "stream",
     "text": [
      "38.73245310783386\n"
     ]
    }
   ],
   "source": [
    "start_time = tm.time()\n",
    "\n",
    "df_cities= pd.DataFrame()\n",
    "for city in city_list:\n",
    "    time = start\n",
    "    \n",
    "    df_city= pd.DataFrame()\n",
    "    while time < int(tm.time()):\n",
    "        payload = base_payload | {'start' : time, 'lat': city['lat'], 'lon': city['lon']}\n",
    "        data = requests.get(url, params=payload).json()[\"list\"]\n",
    "        time+= 3600*cnt \n",
    "        dfw = pd.json_normalize(data, record_path=\"weather\", record_prefix=\"weather.\")\n",
    "        dfnw = pd.json_normalize(data).drop(\"weather\", axis=1)\n",
    "        df = pd.concat([dfw, dfnw], axis=1)\n",
    "        df_city = pd.concat([df_city,df], axis=0)\n",
    "        \n",
    "    df_city.insert(0,'city_name',city[\"name\"])\n",
    "    df_city.insert(0,'city_lon', city['lat'])\n",
    "    df_city.insert(0,'city_lat',city['lon'])\n",
    "    \n",
    "    df_cities = pd.concat([df_cities,df_city], axis=0)\n",
    "    \n",
    "df_cities.to_csv(csv_url, mode='a', header= True, index = False)\n",
    "        \n",
    "print(tm.time() - start_time)"
   ]
  },
  {
   "cell_type": "code",
   "execution_count": null,
   "id": "93c96af4-11ff-431f-b7c3-0af6dfcfaabf",
   "metadata": {},
   "outputs": [],
   "source": []
  }
 ],
 "metadata": {
  "kernelspec": {
   "display_name": "Python 3 (ipykernel)",
   "language": "python",
   "name": "python3"
  },
  "language_info": {
   "codemirror_mode": {
    "name": "ipython",
    "version": 3
   },
   "file_extension": ".py",
   "mimetype": "text/x-python",
   "name": "python",
   "nbconvert_exporter": "python",
   "pygments_lexer": "ipython3",
   "version": "3.9.7"
  }
 },
 "nbformat": 4,
 "nbformat_minor": 5
}
